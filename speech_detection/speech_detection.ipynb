{
 "cells": [
  {
   "cell_type": "code",
   "execution_count": 1,
   "id": "7e611328-33aa-4a2c-a8a4-0058ae49ae17",
   "metadata": {},
   "outputs": [
    {
     "name": "stdout",
     "output_type": "stream",
     "text": [
      "Defaulting to user installation because normal site-packages is not writeable\n",
      "Requirement already satisfied: webrtcvad-wheels in c:\\users\\anika\\appdata\\roaming\\python\\python312\\site-packages (2.0.14)\n"
     ]
    }
   ],
   "source": [
    "!pip install webrtcvad-wheels"
   ]
  },
  {
   "cell_type": "code",
   "execution_count": 2,
   "id": "61d968bb-f611-4ff9-a7fa-38345379b293",
   "metadata": {},
   "outputs": [
    {
     "name": "stdout",
     "output_type": "stream",
     "text": [
      "Defaulting to user installation because normal site-packages is not writeable\n",
      "Requirement already satisfied: pyaudio in c:\\users\\anika\\appdata\\roaming\\python\\python312\\site-packages (0.2.14)\n"
     ]
    }
   ],
   "source": [
    "!pip install pyaudio"
   ]
  },
  {
   "cell_type": "code",
   "execution_count": 3,
   "id": "2ede7bcd-a3e8-4d6c-b2fe-527180fa4825",
   "metadata": {},
   "outputs": [],
   "source": [
    "import webrtcvad\n",
    "import numpy as np\n",
    "import pyaudio\n",
    "import time"
   ]
  },
  {
   "cell_type": "code",
   "execution_count": null,
   "id": "145f292d-d064-4715-85d4-5fa74212ca82",
   "metadata": {},
   "outputs": [],
   "source": [
    "# Initialize WebRTC VAD\n",
    "vad = webrtcvad.Vad()\n",
    "vad.set_mode(1)  # Reduce sensitivity (0 = least aggressive, 3 = most aggressive)\n",
    "\n",
    "# PyAudio setup\n",
    "FORMAT = pyaudio.paInt16\n",
    "CHANNELS = 1\n",
    "RATE = 16000  # WebRTC VAD works best at 16kHz\n",
    "FRAME_DURATION_MS = 30  # Must be 10, 20, or 30 ms\n",
    "FRAME_SIZE = int(RATE * (FRAME_DURATION_MS / 1000))  # 480 samples for 30ms\n",
    "\n",
    "audio = pyaudio.PyAudio()\n",
    "stream = audio.open(format=FORMAT, channels=CHANNELS, rate=RATE, input=True, frames_per_buffer=FRAME_SIZE)\n",
    "\n",
    "talk_time = 0  # Speech counter\n",
    "silence_time = 0  # Silence counter\n",
    "speech_buffer = []  # Store last few speech detections\n",
    "buffer_size = 100  # Number of frames to consider for stable speech detection\n",
    "alert_triggered = False  # Avoid repeated alerts\n",
    "alert_threshold = 100  # Alert if driver talks for ~30 seconds\n",
    "talking = False  # Track if driver is talking\n",
    "silence_announced = False  # Prevent multiple \"Silence detected.\"\n",
    "\n",
    "print(\"Listening for speech...\")\n",
    "\n",
    "def get_audio_energy(frame):\n",
    "    \"\"\"Calculate the average energy of an audio frame to filter out background noise.\"\"\"\n",
    "    audio_data = np.frombuffer(frame, dtype=np.int16)\n",
    "    return np.abs(audio_data).mean()\n",
    "\n",
    "while True:\n",
    "    frame = stream.read(FRAME_SIZE, exception_on_overflow=False)  # Read audio frame\n",
    "    \n",
    "    if len(frame) != FRAME_SIZE * 2:  # Each sample is 2 bytes (16-bit audio)\n",
    "        continue  # Skip if frame size is incorrect\n",
    "    \n",
    "    is_speech = vad.is_speech(frame, RATE)\n",
    "\n",
    "    # Apply background noise filtering\n",
    "    energy = get_audio_energy(frame)\n",
    "    if energy < 500:  # Ignore low-energy noise\n",
    "        is_speech = False  \n",
    "\n",
    "    # Maintain speech buffer for smoother detection\n",
    "    speech_buffer.append(is_speech)\n",
    "    if len(speech_buffer) > buffer_size:\n",
    "        speech_buffer.pop(0)  # Keep buffer size fixed\n",
    "    \n",
    "    # Only confirm speech if majority of last frames detect speech\n",
    "    if sum(speech_buffer) > buffer_size // 3:\n",
    "        if not talking:  # If it's the first time detecting speech\n",
    "            print(\"Driver is talking...\")  # Only print once\n",
    "        talking = True\n",
    "        talk_time += 1\n",
    "        silence_time = 0\n",
    "        silence_announced = False  # Reset silence announcement\n",
    "    else:\n",
    "        if not talking and not silence_announced and silence_time > 100:  # Only print once when talking stops\n",
    "            print(\"Silence detected.\")\n",
    "            silence_announced = True\n",
    "        talking = False\n",
    "        silence_time += 1\n",
    "        if silence_time > buffer_size:\n",
    "            talk_time = 0  # Reset talk time on long silence\n",
    "            alert_triggered = False  # Allow new alerts after silence\n",
    "\n",
    "    # Trigger alert only once after 30 seconds of continuous talking\n",
    "    if talk_time >= alert_threshold and not alert_triggered:\n",
    "        print(\"🚨 Alert: Driver has been talking for too long! 🚨\")\n",
    "        alert_triggered = True  # Prevent repeated alerts"
   ]
  },
  {
   "cell_type": "code",
   "execution_count": null,
   "id": "6f3b2eeb-68c5-4106-b5ca-bdd6f2b70d75",
   "metadata": {},
   "outputs": [],
   "source": []
  }
 ],
 "metadata": {
  "kernelspec": {
   "display_name": "Python 3 (ipykernel)",
   "language": "python",
   "name": "python3"
  },
  "language_info": {
   "codemirror_mode": {
    "name": "ipython",
    "version": 3
   },
   "file_extension": ".py",
   "mimetype": "text/x-python",
   "name": "python",
   "nbconvert_exporter": "python",
   "pygments_lexer": "ipython3",
   "version": "3.12.5"
  }
 },
 "nbformat": 4,
 "nbformat_minor": 5
}
